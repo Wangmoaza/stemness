{
 "cells": [
  {
   "cell_type": "code",
   "execution_count": 2,
   "metadata": {},
   "outputs": [],
   "source": [
    "import pandas as pd\n",
    "import numpy as np"
   ]
  },
  {
   "cell_type": "code",
   "execution_count": 42,
   "metadata": {},
   "outputs": [],
   "source": [
    "info = pd.read_csv('~/DATA1/haeun/stemness/data/TCGA-TARGET-GTEx/GTEx_phenotype.txt', \n",
    "                 sep='\\t', header=0, index_col=0)\n",
    "stem = pd.read_csv('~/DATA1/haeun/stemness/data/TCGA-TARGET-GTEx/mRNA_StemScore.extended.tsv', \n",
    "                   sep='\\t', header=0, index_col=0)"
   ]
  },
  {
   "cell_type": "code",
   "execution_count": 63,
   "metadata": {},
   "outputs": [],
   "source": [
    "subj = info.loc[np.intersect1d(stem.index, info.index),'_patient'].unique()"
   ]
  },
  {
   "cell_type": "code",
   "execution_count": 43,
   "metadata": {
    "scrolled": true
   },
   "outputs": [
    {
     "data": {
      "text/plain": [
       "(9681, 5)"
      ]
     },
     "execution_count": 43,
     "metadata": {},
     "output_type": "execute_result"
    }
   ],
   "source": [
    "info = info[info.index.str.startswith('GTEX')]\n",
    "info.shape"
   ]
  },
  {
   "cell_type": "code",
   "execution_count": 44,
   "metadata": {},
   "outputs": [
    {
     "data": {
      "text/plain": [
       "(7781, 6)"
      ]
     },
     "execution_count": 44,
     "metadata": {},
     "output_type": "execute_result"
    }
   ],
   "source": [
    "stem = stem[stem['cohort'] == 'GTEX']\n",
    "stem.shape"
   ]
  },
  {
   "cell_type": "code",
   "execution_count": 45,
   "metadata": {},
   "outputs": [
    {
     "data": {
      "text/plain": [
       "(7781,)"
      ]
     },
     "execution_count": 45,
     "metadata": {},
     "output_type": "execute_result"
    }
   ],
   "source": [
    "np.intersect1d(stem.index, info.index).shape"
   ]
  },
  {
   "cell_type": "code",
   "execution_count": 58,
   "metadata": {},
   "outputs": [],
   "source": [
    "gtex6 = pd.read_csv('~/DATA1/haeun/stemness/data/GTEx/GTEx_Data_V6_Annotations_SubjectPhenotypesDS.txt',\n",
    "                    sep='\\t', header=0, index_col=0)\n",
    "gtex7 = pd.read_csv('~/DATA1/haeun/stemness/data/GTEx/GTEx_v7_Annotations_SubjectPhenotypesDS.txt',\n",
    "                    sep='\\t', header=0, index_col=0)\n",
    "gtex4 = pd.read_csv('~/DATA1/haeun/stemness/data/GTEx/GTEx_Data_V4_Annotations_SubjectPhenotypes_DS.txt',\n",
    "                    sep='\\t', header=0, index_col=0)"
   ]
  },
  {
   "cell_type": "code",
   "execution_count": 59,
   "metadata": {},
   "outputs": [],
   "source": [
    "gtex4 = gtex4[gtex4.index.str.startswith('GTEX')]\n",
    "gtex6 = gtex6[gtex6.index.str.startswith('GTEX')]\n",
    "gtex7 = gtex7[gtex7.index.str.startswith('GTEX')]"
   ]
  },
  {
   "cell_type": "code",
   "execution_count": 70,
   "metadata": {},
   "outputs": [
    {
     "data": {
      "text/plain": [
       "548"
      ]
     },
     "execution_count": 70,
     "metadata": {},
     "output_type": "execute_result"
    }
   ],
   "source": [
    "len(stem_s)"
   ]
  },
  {
   "cell_type": "code",
   "execution_count": 25,
   "metadata": {},
   "outputs": [],
   "source": [
    "df = pd.read_csv('~/DATA1/jaeho/Omnigenic_study/01.raw_data/01.GTEx_data/02.Expression_data/02.2017_data/GTEx_Analysis_2016-01-15_v7_RNASeQCv1.1.8_gene_reads.gct',\n",
    "                 sep='\\t', skiprows=2, header=0, index_col=0)"
   ]
  },
  {
   "cell_type": "code",
   "execution_count": 26,
   "metadata": {},
   "outputs": [],
   "source": [
    "gencode = pd.read_csv('../data/GTEx/gencode.v19.gtex.v7.annotation.tsv', sep='\\t', header=0, index_col=0)"
   ]
  },
  {
   "cell_type": "code",
   "execution_count": 27,
   "metadata": {},
   "outputs": [],
   "source": [
    "sig = pd.read_csv('../data/PCBC/pcbc-stemsig.tsv', header=None, index_col=0, sep='\\t')"
   ]
  },
  {
   "cell_type": "code",
   "execution_count": 30,
   "metadata": {},
   "outputs": [
    {
     "data": {
      "text/html": [
       "<div>\n",
       "<style scoped>\n",
       "    .dataframe tbody tr th:only-of-type {\n",
       "        vertical-align: middle;\n",
       "    }\n",
       "\n",
       "    .dataframe tbody tr th {\n",
       "        vertical-align: top;\n",
       "    }\n",
       "\n",
       "    .dataframe thead th {\n",
       "        text-align: right;\n",
       "    }\n",
       "</style>\n",
       "<table border=\"1\" class=\"dataframe\">\n",
       "  <thead>\n",
       "    <tr style=\"text-align: right;\">\n",
       "      <th></th>\n",
       "      <th>GTEX-1117F-0226-SM-5GZZ7</th>\n",
       "      <th>GTEX-111CU-1826-SM-5GZYN</th>\n",
       "      <th>GTEX-111FC-0226-SM-5N9B8</th>\n",
       "      <th>GTEX-111VG-2326-SM-5N9BK</th>\n",
       "      <th>GTEX-111YS-2426-SM-5GZZQ</th>\n",
       "      <th>GTEX-1122O-2026-SM-5NQ91</th>\n",
       "      <th>GTEX-1128S-2126-SM-5H12U</th>\n",
       "      <th>GTEX-113IC-0226-SM-5HL5C</th>\n",
       "      <th>GTEX-117YX-2226-SM-5EGJJ</th>\n",
       "      <th>GTEX-11DXW-0326-SM-5H11W</th>\n",
       "      <th>...</th>\n",
       "      <th>GTEX-ZVE2-0006-SM-51MRW</th>\n",
       "      <th>GTEX-ZVP2-0005-SM-51MRK</th>\n",
       "      <th>GTEX-ZVT2-0005-SM-57WBW</th>\n",
       "      <th>GTEX-ZVT3-0006-SM-51MT9</th>\n",
       "      <th>GTEX-ZVT4-0006-SM-57WB8</th>\n",
       "      <th>GTEX-ZVTK-0006-SM-57WBK</th>\n",
       "      <th>GTEX-ZVZP-0006-SM-51MSW</th>\n",
       "      <th>GTEX-ZVZQ-0006-SM-51MR8</th>\n",
       "      <th>GTEX-ZXES-0005-SM-57WCB</th>\n",
       "      <th>GTEX-ZXG5-0005-SM-57WCN</th>\n",
       "    </tr>\n",
       "    <tr>\n",
       "      <th>Description</th>\n",
       "      <th></th>\n",
       "      <th></th>\n",
       "      <th></th>\n",
       "      <th></th>\n",
       "      <th></th>\n",
       "      <th></th>\n",
       "      <th></th>\n",
       "      <th></th>\n",
       "      <th></th>\n",
       "      <th></th>\n",
       "      <th></th>\n",
       "      <th></th>\n",
       "      <th></th>\n",
       "      <th></th>\n",
       "      <th></th>\n",
       "      <th></th>\n",
       "      <th></th>\n",
       "      <th></th>\n",
       "      <th></th>\n",
       "      <th></th>\n",
       "      <th></th>\n",
       "    </tr>\n",
       "  </thead>\n",
       "  <tbody>\n",
       "    <tr>\n",
       "      <th>TSPAN6</th>\n",
       "      <td>2222</td>\n",
       "      <td>1656</td>\n",
       "      <td>1482</td>\n",
       "      <td>1876</td>\n",
       "      <td>3501</td>\n",
       "      <td>4303</td>\n",
       "      <td>3434</td>\n",
       "      <td>2100</td>\n",
       "      <td>4312</td>\n",
       "      <td>1191</td>\n",
       "      <td>...</td>\n",
       "      <td>12</td>\n",
       "      <td>16</td>\n",
       "      <td>8</td>\n",
       "      <td>14</td>\n",
       "      <td>82</td>\n",
       "      <td>4</td>\n",
       "      <td>4</td>\n",
       "      <td>13</td>\n",
       "      <td>16</td>\n",
       "      <td>10</td>\n",
       "    </tr>\n",
       "    <tr>\n",
       "      <th>TNMD</th>\n",
       "      <td>434</td>\n",
       "      <td>220</td>\n",
       "      <td>1295</td>\n",
       "      <td>498</td>\n",
       "      <td>566</td>\n",
       "      <td>1029</td>\n",
       "      <td>1462</td>\n",
       "      <td>202</td>\n",
       "      <td>621</td>\n",
       "      <td>500</td>\n",
       "      <td>...</td>\n",
       "      <td>1</td>\n",
       "      <td>2</td>\n",
       "      <td>0</td>\n",
       "      <td>2</td>\n",
       "      <td>0</td>\n",
       "      <td>0</td>\n",
       "      <td>0</td>\n",
       "      <td>0</td>\n",
       "      <td>0</td>\n",
       "      <td>2</td>\n",
       "    </tr>\n",
       "    <tr>\n",
       "      <th>DPM1</th>\n",
       "      <td>1231</td>\n",
       "      <td>1414</td>\n",
       "      <td>1960</td>\n",
       "      <td>1393</td>\n",
       "      <td>1244</td>\n",
       "      <td>1542</td>\n",
       "      <td>1162</td>\n",
       "      <td>1223</td>\n",
       "      <td>1579</td>\n",
       "      <td>1093</td>\n",
       "      <td>...</td>\n",
       "      <td>174</td>\n",
       "      <td>1399</td>\n",
       "      <td>503</td>\n",
       "      <td>274</td>\n",
       "      <td>225</td>\n",
       "      <td>182</td>\n",
       "      <td>960</td>\n",
       "      <td>218</td>\n",
       "      <td>845</td>\n",
       "      <td>496</td>\n",
       "    </tr>\n",
       "    <tr>\n",
       "      <th>SCYL3</th>\n",
       "      <td>688</td>\n",
       "      <td>836</td>\n",
       "      <td>1557</td>\n",
       "      <td>756</td>\n",
       "      <td>891</td>\n",
       "      <td>1071</td>\n",
       "      <td>807</td>\n",
       "      <td>693</td>\n",
       "      <td>967</td>\n",
       "      <td>681</td>\n",
       "      <td>...</td>\n",
       "      <td>155</td>\n",
       "      <td>985</td>\n",
       "      <td>621</td>\n",
       "      <td>220</td>\n",
       "      <td>292</td>\n",
       "      <td>362</td>\n",
       "      <td>701</td>\n",
       "      <td>282</td>\n",
       "      <td>1101</td>\n",
       "      <td>511</td>\n",
       "    </tr>\n",
       "    <tr>\n",
       "      <th>C1orf112</th>\n",
       "      <td>178</td>\n",
       "      <td>295</td>\n",
       "      <td>486</td>\n",
       "      <td>375</td>\n",
       "      <td>226</td>\n",
       "      <td>331</td>\n",
       "      <td>261</td>\n",
       "      <td>282</td>\n",
       "      <td>277</td>\n",
       "      <td>220</td>\n",
       "      <td>...</td>\n",
       "      <td>59</td>\n",
       "      <td>98</td>\n",
       "      <td>32</td>\n",
       "      <td>95</td>\n",
       "      <td>75</td>\n",
       "      <td>88</td>\n",
       "      <td>41</td>\n",
       "      <td>75</td>\n",
       "      <td>79</td>\n",
       "      <td>106</td>\n",
       "    </tr>\n",
       "  </tbody>\n",
       "</table>\n",
       "<p>5 rows × 11688 columns</p>\n",
       "</div>"
      ],
      "text/plain": [
       "             GTEX-1117F-0226-SM-5GZZ7  GTEX-111CU-1826-SM-5GZYN  \\\n",
       "Description                                                       \n",
       "TSPAN6                           2222                      1656   \n",
       "TNMD                              434                       220   \n",
       "DPM1                             1231                      1414   \n",
       "SCYL3                             688                       836   \n",
       "C1orf112                          178                       295   \n",
       "\n",
       "             GTEX-111FC-0226-SM-5N9B8  GTEX-111VG-2326-SM-5N9BK  \\\n",
       "Description                                                       \n",
       "TSPAN6                           1482                      1876   \n",
       "TNMD                             1295                       498   \n",
       "DPM1                             1960                      1393   \n",
       "SCYL3                            1557                       756   \n",
       "C1orf112                          486                       375   \n",
       "\n",
       "             GTEX-111YS-2426-SM-5GZZQ  GTEX-1122O-2026-SM-5NQ91  \\\n",
       "Description                                                       \n",
       "TSPAN6                           3501                      4303   \n",
       "TNMD                              566                      1029   \n",
       "DPM1                             1244                      1542   \n",
       "SCYL3                             891                      1071   \n",
       "C1orf112                          226                       331   \n",
       "\n",
       "             GTEX-1128S-2126-SM-5H12U  GTEX-113IC-0226-SM-5HL5C  \\\n",
       "Description                                                       \n",
       "TSPAN6                           3434                      2100   \n",
       "TNMD                             1462                       202   \n",
       "DPM1                             1162                      1223   \n",
       "SCYL3                             807                       693   \n",
       "C1orf112                          261                       282   \n",
       "\n",
       "             GTEX-117YX-2226-SM-5EGJJ  GTEX-11DXW-0326-SM-5H11W  \\\n",
       "Description                                                       \n",
       "TSPAN6                           4312                      1191   \n",
       "TNMD                              621                       500   \n",
       "DPM1                             1579                      1093   \n",
       "SCYL3                             967                       681   \n",
       "C1orf112                          277                       220   \n",
       "\n",
       "                      ...             GTEX-ZVE2-0006-SM-51MRW  \\\n",
       "Description           ...                                       \n",
       "TSPAN6                ...                                  12   \n",
       "TNMD                  ...                                   1   \n",
       "DPM1                  ...                                 174   \n",
       "SCYL3                 ...                                 155   \n",
       "C1orf112              ...                                  59   \n",
       "\n",
       "             GTEX-ZVP2-0005-SM-51MRK  GTEX-ZVT2-0005-SM-57WBW  \\\n",
       "Description                                                     \n",
       "TSPAN6                            16                        8   \n",
       "TNMD                               2                        0   \n",
       "DPM1                            1399                      503   \n",
       "SCYL3                            985                      621   \n",
       "C1orf112                          98                       32   \n",
       "\n",
       "             GTEX-ZVT3-0006-SM-51MT9  GTEX-ZVT4-0006-SM-57WB8  \\\n",
       "Description                                                     \n",
       "TSPAN6                            14                       82   \n",
       "TNMD                               2                        0   \n",
       "DPM1                             274                      225   \n",
       "SCYL3                            220                      292   \n",
       "C1orf112                          95                       75   \n",
       "\n",
       "             GTEX-ZVTK-0006-SM-57WBK  GTEX-ZVZP-0006-SM-51MSW  \\\n",
       "Description                                                     \n",
       "TSPAN6                             4                        4   \n",
       "TNMD                               0                        0   \n",
       "DPM1                             182                      960   \n",
       "SCYL3                            362                      701   \n",
       "C1orf112                          88                       41   \n",
       "\n",
       "             GTEX-ZVZQ-0006-SM-51MR8  GTEX-ZXES-0005-SM-57WCB  \\\n",
       "Description                                                     \n",
       "TSPAN6                            13                       16   \n",
       "TNMD                               0                        0   \n",
       "DPM1                             218                      845   \n",
       "SCYL3                            282                     1101   \n",
       "C1orf112                          75                       79   \n",
       "\n",
       "             GTEX-ZXG5-0005-SM-57WCN  \n",
       "Description                           \n",
       "TSPAN6                            10  \n",
       "TNMD                               2  \n",
       "DPM1                             496  \n",
       "SCYL3                            511  \n",
       "C1orf112                         106  \n",
       "\n",
       "[5 rows x 11688 columns]"
      ]
     },
     "execution_count": 30,
     "metadata": {},
     "output_type": "execute_result"
    }
   ],
   "source": [
    "df.head()"
   ]
  },
  {
   "cell_type": "code",
   "execution_count": 29,
   "metadata": {
    "scrolled": true
   },
   "outputs": [],
   "source": [
    "idx = np.intersect1d(gencode[gencode['gene_type'] == 'protein_coding'].index, df.index)\n",
    "df = df.loc[idx, :]\n",
    "df = df.set_index('Description')"
   ]
  },
  {
   "cell_type": "code",
   "execution_count": 31,
   "metadata": {},
   "outputs": [],
   "source": [
    "df = df.loc[np.intersect1d(sig.index, df.index), :]"
   ]
  },
  {
   "cell_type": "code",
   "execution_count": 32,
   "metadata": {},
   "outputs": [],
   "source": [
    "np.log2(df + 1).to_csv('../data/GTEx/GTEx.v7.all_samples.onlySTEMgenes.norm_counts.expression.txt', sep='\\t')"
   ]
  },
  {
   "cell_type": "code",
   "execution_count": 21,
   "metadata": {},
   "outputs": [],
   "source": [
    "sig2 = pd.read_csv('../data/paper/EREG-mRNA_weights.tsv', sep='\\t', index_col=1, header=0)\n",
    "df = df.loc[np.intersect1d(sig2.index, df.index), :]"
   ]
  },
  {
   "cell_type": "code",
   "execution_count": 22,
   "metadata": {},
   "outputs": [
    {
     "data": {
      "text/plain": [
       "(96, 11688)"
      ]
     },
     "execution_count": 22,
     "metadata": {},
     "output_type": "execute_result"
    }
   ],
   "source": [
    "df.shape"
   ]
  },
  {
   "cell_type": "code",
   "execution_count": 24,
   "metadata": {},
   "outputs": [],
   "source": [
    "np.log2(df + 1).to_csv('../data/GTEx/GTEx.v7.all_samples.onlyEREGgenes.norm_counts.expression.txt', sep='\\t')"
   ]
  },
  {
   "cell_type": "code",
   "execution_count": 3,
   "metadata": {},
   "outputs": [],
   "source": [
    "exp = pd.read_csv('../data/TCGA-TARGET-GTEx/TcgaTargetGtex_RSEM_Hugo_onlyEREGgenes_norm_count.txt', sep='\\t', header=0, index_col=0)"
   ]
  },
  {
   "cell_type": "code",
   "execution_count": 11,
   "metadata": {},
   "outputs": [],
   "source": [
    "exp.drop('TCGA-25-1870-01', axis=1).to_csv('../data/TCGA-TARGET-GTEx/TcgaTargetGtex_RSEM_Hugo_onlyEREGgenes_norm_count.txt', sep='\\t')"
   ]
  },
  {
   "cell_type": "code",
   "execution_count": 15,
   "metadata": {},
   "outputs": [
    {
     "name": "stderr",
     "output_type": "stream",
     "text": [
      "/home/omics/miniconda2/lib/python2.7/site-packages/ipykernel_launcher.py:3: FutureWarning: Sorting because non-concatenation axis is not aligned. A future version\n",
      "of pandas will change to not sort by default.\n",
      "\n",
      "To accept the future behavior, pass 'sort=False'.\n",
      "\n",
      "To retain the current behavior and silence the warning, pass 'sort=True'.\n",
      "\n",
      "  This is separate from the ipykernel package so we can avoid doing imports until\n"
     ]
    }
   ],
   "source": [
    "mRNA = pd.read_csv('../data/TCGA-TARGET-GTEx/mRNA_StemScore.extended.tsv', sep='\\t', header=0, index_col=0)\n",
    "EREG = pd.read_csv('../data/TCGA-TARGET-GTEx/EREG-mRNA_StemScore.tsv', sep='\\t', header=None, index_col=0, names=['id', 'EREG-mRNAsi'])\n",
    "df = pd.concat([EREG, mRNA], axis=1)"
   ]
  },
  {
   "cell_type": "code",
   "execution_count": 17,
   "metadata": {},
   "outputs": [],
   "source": [
    "df.to_csv('../data/TCGA-TARGET-GTEx/mRNA_StemScore.extended.tsv', sep='\\t')"
   ]
  },
  {
   "cell_type": "code",
   "execution_count": null,
   "metadata": {},
   "outputs": [],
   "source": []
  }
 ],
 "metadata": {
  "kernelspec": {
   "display_name": "Python 2",
   "language": "python",
   "name": "python2"
  },
  "language_info": {
   "codemirror_mode": {
    "name": "ipython",
    "version": 2
   },
   "file_extension": ".py",
   "mimetype": "text/x-python",
   "name": "python",
   "nbconvert_exporter": "python",
   "pygments_lexer": "ipython2",
   "version": "2.7.14"
  }
 },
 "nbformat": 4,
 "nbformat_minor": 2
}
