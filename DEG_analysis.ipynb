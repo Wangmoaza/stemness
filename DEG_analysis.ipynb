{
 "cells": [
  {
   "cell_type": "code",
   "execution_count": 1,
   "metadata": {},
   "outputs": [],
   "source": [
    "import pandas as pd\n",
    "import numpy as np\n",
    "import rpy2"
   ]
  },
  {
   "cell_type": "code",
   "execution_count": null,
   "metadata": {},
   "outputs": [],
   "source": [
    "bodysite = 'Breast'\n",
    "info = pd.read_csv('../data/TOIL/sample_info.txt', \n",
    "                   sep='\\t', header=0, index_col=0)"
   ]
  },
  {
   "cell_type": "code",
   "execution_count": 3,
   "metadata": {},
   "outputs": [],
   "source": [
    "whole = pd.read_csv('../data/TOIL/TcgaTargetGtex_RSEM_Hugo_norm_count.txt', \n",
    "                    sep='\\t', header=0, index_col=0)\n",
    "whole = np.power(2, whole) - 1\n",
    "whole[info[info['body_site'] == bodysite].index].to_csv('../data/TOIL/TOIL_RSEM_Hugo_{0}_count_float.txt'.format(bodysite), sep='\\t')"
   ]
  },
  {
   "cell_type": "code",
   "execution_count": 2,
   "metadata": {},
   "outputs": [],
   "source": [
    "bodysite = 'Breast'\n",
    "info = pd.read_csv('../data/TOIL/sample_info.txt', \n",
    "                   sep='\\t', header=0, index_col=0)\n",
    "expr = pd.read_csv('../data/TOIL/TOIL_RSEM_Hugo_Breast_count_int.txt', \n",
    "                   sep='\\t', header=0, index_col=0)\n",
    "expr = expr.dropna()\n",
    "\n",
    "expressed = expr.apply(lambda x: x > 10).agg(lambda x: np.sum(x) >= 2, axis=1)\n",
    "expressed_genes = expr[expressed].index.values"
   ]
  },
  {
   "cell_type": "markdown",
   "metadata": {},
   "source": [
    "\n",
    "# After RUVSeq & edgeR"
   ]
  },
  {
   "cell_type": "code",
   "execution_count": 40,
   "metadata": {},
   "outputs": [],
   "source": [
    "def deg(df, strict=True):\n",
    "    \"\"\"Returns UP DOWN Series\"\"\"\n",
    "    df = df[df['logCPM'] > 3]\n",
    "    if not strict:\n",
    "        return df['logFC'].apply(lambda x: int(np.sign(x)))\n",
    "    \n",
    "    return df['logFC'].apply(lambda x: int(np.sign(x) * int(np.abs(x) > 1)))"
   ]
  },
  {
   "cell_type": "code",
   "execution_count": 41,
   "metadata": {},
   "outputs": [],
   "source": [
    "expr_models = ['UD', 'DU', 'UU', 'DD', 'US', 'DS', 'SU', 'SD', 'SS']"
   ]
  },
  {
   "cell_type": "code",
   "execution_count": 57,
   "metadata": {},
   "outputs": [
    {
     "name": "stdout",
     "output_type": "stream",
     "text": [
      "Normal PNT\n",
      "PNT Tumor\n",
      "Normal Tumor\n"
     ]
    }
   ],
   "source": [
    "tmp_df = pd.DataFrame(0, index=expressed_genes, columns=['N_P', 'P_T', 'N_T'])\n",
    "for a, b in [('Normal', 'PNT'), ('PNT', 'Tumor'), ('Normal', 'Tumor')]:\n",
    "    print a, b\n",
    "    df = pd.read_csv('../Analysis/DEG/{0}.{1}_{2}.DEG_list.txt'.format(bodysite, a, b),\n",
    "                 sep='\\t', header=0, index_col=0)\n",
    "    \n",
    "    tmp_df.loc[:, '{0}_{1}'.format(a[0], b[0])] = deg(df, strict=True)\n",
    "tmp_df = tmp_df.fillna(0)\n",
    "tmp_df = tmp_df.astype('int64')"
   ]
  },
  {
   "cell_type": "code",
   "execution_count": 45,
   "metadata": {},
   "outputs": [],
   "source": [
    "grid = pd.DataFrame(np.array([[1, -1, 0],\n",
    "                              [-1, 1, 0],\n",
    "                              [1, 1, 1],\n",
    "                              [-1, -1, -1],\n",
    "                              [1, 0, 1],\n",
    "                              [-1, 0, -1],\n",
    "                              [0, -1, -1],\n",
    "                              [0, 1, 1],\n",
    "                              [0, 0, 0]]),\n",
    "                    index=expr_models,\n",
    "                    columns=['N_P', 'P_T', 'N_T'])"
   ]
  },
  {
   "cell_type": "code",
   "execution_count": 58,
   "metadata": {
    "scrolled": false
   },
   "outputs": [],
   "source": [
    "model_ser = pd.Series(index=tmp_df.index)\n",
    "for i in range(tmp_df.shape[0]):\n",
    "    for k in range(grid.shape[0]):\n",
    "        if np.array_equal(tmp_df.iloc[i, :].values, grid.iloc[k, :].values):\n",
    "            model_ser.iloc[i] = grid.index[k]"
   ]
  },
  {
   "cell_type": "code",
   "execution_count": 59,
   "metadata": {},
   "outputs": [],
   "source": [
    "model_ser = model_ser.dropna()"
   ]
  },
  {
   "cell_type": "code",
   "execution_count": 60,
   "metadata": {},
   "outputs": [
    {
     "data": {
      "text/plain": [
       "'SS'"
      ]
     },
     "execution_count": 60,
     "metadata": {},
     "output_type": "execute_result"
    }
   ],
   "source": [
    "model_ser['MUC1']"
   ]
  },
  {
   "cell_type": "code",
   "execution_count": 61,
   "metadata": {
    "scrolled": false
   },
   "outputs": [
    {
     "name": "stdout",
     "output_type": "stream",
     "text": [
      "UD 1\n",
      "DU 0\n",
      "UU 1\n",
      "DD 0\n",
      "US 14\n",
      "DS 4\n",
      "SU 34\n",
      "SD 398\n",
      "SS 34704\n"
     ]
    }
   ],
   "source": [
    "for i in expr_models:\n",
    "    print i, model_ser[model_ser == i].shape[0]"
   ]
  },
  {
   "cell_type": "code",
   "execution_count": 62,
   "metadata": {},
   "outputs": [],
   "source": [
    "model_ser.to_csv('../Analysis/DEG/expression_models.2fold.txt', sep='\\t', header=False)"
   ]
  },
  {
   "cell_type": "code",
   "execution_count": null,
   "metadata": {},
   "outputs": [],
   "source": []
  }
 ],
 "metadata": {
  "kernelspec": {
   "display_name": "Python 2",
   "language": "python",
   "name": "python2"
  },
  "language_info": {
   "codemirror_mode": {
    "name": "ipython",
    "version": 2
   },
   "file_extension": ".py",
   "mimetype": "text/x-python",
   "name": "python",
   "nbconvert_exporter": "python",
   "pygments_lexer": "ipython2",
   "version": "2.7.15"
  }
 },
 "nbformat": 4,
 "nbformat_minor": 2
}
