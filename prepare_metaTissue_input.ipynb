{
 "cells": [
  {
   "cell_type": "code",
   "execution_count": 57,
   "metadata": {},
   "outputs": [],
   "source": [
    "import pandas as pd\n",
    "import numpy as np"
   ]
  },
  {
   "cell_type": "code",
   "execution_count": 68,
   "metadata": {},
   "outputs": [],
   "source": [
    "df = pd.read_csv('../data/TCGA-TARGET-GTEx/mRNA_StemScore.extended.tsv', \n",
    "                 sep='\\t', header=0, index_col=0)\n",
    "df = df[df['cohort'] == 'GTEX']\n",
    "df['SUBJID'] = df.index.str.rsplit('-', 3).str[0]\n",
    "\n",
    "genotype_ids = pd.read_csv('../data/TCGA-TARGET-GTEx/GTEx_genotype_subjIDs.txt', header=None, squeeze=True).values\n",
    "ancestry = pd.read_csv('../data/GTEx/GTEx.v7.ancestry.txt', sep='\\t', header=0, index_col=0)\n",
    "ancestry.index = ancestry.index.str.replace('_', '-')\n",
    "white_ids = ancestry[ancestry['ancestry'] == 0].index\n",
    "\n",
    "df = df.loc[df['body_site'].isin(['Uterus', 'Breast', 'Thyroid', 'Lung', 'Esophagus', 'Stomach', 'Colon', 'Prostate', 'Liver']), ]\n",
    "df = df.loc[df['SUBJID'].isin(np.intersect1d(genotype_ids, white_ids)), ]\n",
    "df['tissue'] = df['tissue'].str.replace(' ', '_')\n",
    "df = df.sort_index()"
   ]
  },
  {
   "cell_type": "markdown",
   "metadata": {},
   "source": [
    "# 1. Tissue information file: this file contains information on which tissues are collected from each sample. Here is one such file (tissue_info.txt)\n",
    "\n",
    "1. First line always starts with \"#TISSUE\" followed by tissue names (e.g. \"cortex,\" \"heart,\" \"liver,\" and \"spleen\")\n",
    "\n",
    "2. From the second line, information on which tissues are collected from each sample is specified\n",
    "\n",
    "   2.1 First column is sample ID (e.g. \"a\" \"b\" \"c\" ...)\n",
    "\n",
    "   2.2. Second and later column is 1 if the tissue was collected from this individual or 0 otherwise. For example, cortex, heart, and liver were collected from sample \"a\" while liver and spleen were collected from sample \"b\"\n",
    "\n",
    "3. IMPORTANT!!! Columns must be separated by a whitespace (space or tab), but multiple whitespaces are NOT allowed and will cause errors.\n"
   ]
  },
  {
   "cell_type": "code",
   "execution_count": 71,
   "metadata": {
    "scrolled": true
   },
   "outputs": [],
   "source": [
    "tissue_info = pd.DataFrame(0, index=df['SUBJID'].unique(), columns=df['tissue'].unique())\n",
    "tissue_info.index.name = 'SUBJID'\n",
    "tissue_info = tissue_info.sort_index()"
   ]
  },
  {
   "cell_type": "code",
   "execution_count": 72,
   "metadata": {},
   "outputs": [],
   "source": [
    "tissue_list = df['tissue'].unique()\n",
    "for tissue in tissue_list:\n",
    "    tissue_info.loc[df[df['tissue'] == tissue]['SUBJID'], tissue] = 1\n",
    "    "
   ]
  },
  {
   "cell_type": "code",
   "execution_count": 74,
   "metadata": {},
   "outputs": [],
   "source": [
    "tissue_info.to_csv('~/DATA1/haeun/stemness/data/TCGA-TARGET-GTEx/GTEx-mutli-tissue/tissue_info.txt', sep='\\t')"
   ]
  },
  {
   "cell_type": "markdown",
   "metadata": {},
   "source": [
    "# 2. Gene expression data: there are 3 different types of files specifying information on gene expression data.\n",
    "\n",
    "## 2.1. Gene expression file: This specifies gene expression level for each sample measured on multiple probes. Meta-Tissue expects one gene expression file for each tissue. So, if there are 4 tissues collected, then there must be 4 files. The format of each gene expression file is as follows (cortex.txt):\n",
    "\n",
    "1. First line lists sample IDs collected for this tissue.\n",
    "\n",
    "2. Please note that samples that are not collected for this tissue must not be listed in gene expression file. For example, sample \"b\" is not listed in this file (cortex.txt) since cortex tissue was not collected from sample \"b\" (see above tissue information file).\n",
    "\n",
    "3. IMPORTANT!!! The order of sample IDs must match the order of sample IDs in the tissue information file. For example, \"a d e c\" in the first line of gene expression file is incorrect because \"c\" comes before \"d\" in the tissue information file.\n",
    "\n",
    "4. Second line and later specify gene expression level for each sample. Each row is a probe for gene expression and each column corresponds to a sample."
   ]
  },
  {
   "cell_type": "code",
   "execution_count": 75,
   "metadata": {},
   "outputs": [],
   "source": [
    "grouped = df.groupby('tissue')\n",
    "\n",
    "for name, group in grouped:\n",
    "    tmp_df = group.set_index('SUBJID')[['mRNAsi', 'EREG-mRNAsi']]\n",
    "    tmp_df.T.to_csv('../data/TCGA-TARGET-GTEx/GTEx-mutli-tissue/{0}.txt'.format(name), sep='\\t', index=False)\n",
    "    #print tmp_df.head()"
   ]
  },
  {
   "cell_type": "markdown",
   "metadata": {},
   "source": [
    "## 2.2 Gene expression list file: This specifies where the above gene expression files are stored. Specifically, it lists the full path to the above files. Here is one example (gene_list.txt)\n",
    "\n",
    "1. Each line lists the full path to the gene expression file.\n",
    "\n",
    "2. IMPORTANT!!! The order of gene expression files in this file must be the same as the order of tissues listed in the first line of tissue information file (tissue_info.txt). In the above example, the order of tissues was \"cortex heart liver spleen,\" and the order of expression files listed here is also \"cortex heart liver spleen.\"\n",
    "\n",
    "3. IMPORTANT!!! Always use the full or absolute path (e.g. \"/usr/home/[user_id]/\") when you specify files in Meta-Tissue. Relative path (e.g. \"../\") or tilde (\"~\") may cause errors.\n"
   ]
  },
  {
   "cell_type": "markdown",
   "metadata": {},
   "source": [
    "1. Each line lists information on each probe.\n",
    "\n",
    "2. The first column must be probe ID.\n",
    "\n",
    "3. The second column must be \"chr[chr_number]\" where chr_number can be 1-22, X, Y, and XY.\n",
    "\n",
    "4. The third column must be position of probes (starting position)."
   ]
  },
  {
   "cell_type": "code",
   "execution_count": 77,
   "metadata": {},
   "outputs": [],
   "source": [
    "tmp = pd.DataFrame(0, index=['ID3', 'id10', 'id2'], columns=['a', 'b'])"
   ]
  },
  {
   "cell_type": "code",
   "execution_count": 80,
   "metadata": {},
   "outputs": [
    {
     "data": {
      "text/html": [
       "<div>\n",
       "<style scoped>\n",
       "    .dataframe tbody tr th:only-of-type {\n",
       "        vertical-align: middle;\n",
       "    }\n",
       "\n",
       "    .dataframe tbody tr th {\n",
       "        vertical-align: top;\n",
       "    }\n",
       "\n",
       "    .dataframe thead th {\n",
       "        text-align: right;\n",
       "    }\n",
       "</style>\n",
       "<table border=\"1\" class=\"dataframe\">\n",
       "  <thead>\n",
       "    <tr style=\"text-align: right;\">\n",
       "      <th></th>\n",
       "      <th>a</th>\n",
       "      <th>b</th>\n",
       "    </tr>\n",
       "  </thead>\n",
       "  <tbody>\n",
       "    <tr>\n",
       "      <th>ID3</th>\n",
       "      <td>0</td>\n",
       "      <td>0</td>\n",
       "    </tr>\n",
       "    <tr>\n",
       "      <th>id10</th>\n",
       "      <td>0</td>\n",
       "      <td>0</td>\n",
       "    </tr>\n",
       "    <tr>\n",
       "      <th>id2</th>\n",
       "      <td>0</td>\n",
       "      <td>0</td>\n",
       "    </tr>\n",
       "  </tbody>\n",
       "</table>\n",
       "</div>"
      ],
      "text/plain": [
       "      a  b\n",
       "ID3   0  0\n",
       "id10  0  0\n",
       "id2   0  0"
      ]
     },
     "execution_count": 80,
     "metadata": {},
     "output_type": "execute_result"
    }
   ],
   "source": [
    "tmp.sort_index()"
   ]
  },
  {
   "cell_type": "code",
   "execution_count": null,
   "metadata": {},
   "outputs": [],
   "source": []
  }
 ],
 "metadata": {
  "kernelspec": {
   "display_name": "Python 2",
   "language": "python",
   "name": "python2"
  },
  "language_info": {
   "codemirror_mode": {
    "name": "ipython",
    "version": 2
   },
   "file_extension": ".py",
   "mimetype": "text/x-python",
   "name": "python",
   "nbconvert_exporter": "python",
   "pygments_lexer": "ipython2",
   "version": "2.7.14"
  }
 },
 "nbformat": 4,
 "nbformat_minor": 2
}
