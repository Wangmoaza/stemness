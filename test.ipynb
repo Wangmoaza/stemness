{
 "cells": [
  {
   "cell_type": "code",
   "execution_count": 1,
   "metadata": {},
   "outputs": [
    {
     "name": "stderr",
     "output_type": "stream",
     "text": [
      "\n",
      "Attaching package: ‘dplyr’\n",
      "\n",
      "The following objects are masked from ‘package:stats’:\n",
      "\n",
      "    filter, lag\n",
      "\n",
      "The following objects are masked from ‘package:base’:\n",
      "\n",
      "    intersect, setdiff, setequal, union\n",
      "\n"
     ]
    }
   ],
   "source": [
    "library(gelnet)\n",
    "library(dplyr)\n",
    "library(biomaRt)"
   ]
  },
  {
   "cell_type": "code",
   "execution_count": 2,
   "metadata": {},
   "outputs": [],
   "source": [
    "# Maps ENSEMBL IDs to HUGO\n",
    "# Use srcType = \"ensembl_gene_id\" for Ensembl IDs\n",
    "# Use srcType = \"entrezgene\" for Entrez IDs\n",
    "genes2hugo <- function( v, srcType = \"ensembl_gene_id\" )\n",
    "{\n",
    "    ## Retrieve the EMSEMBL -> HUGO mapping\n",
    "    ensembl <- biomaRt::useMart( \"ENSEMBL_MART_ENSEMBL\", host=\"www.ensembl.org\", dataset=\"hsapiens_gene_ensembl\" )\n",
    "    ID <- biomaRt::getBM( attributes=c(srcType, \"hgnc_symbol\"), filters=srcType, values=v, mart=ensembl )\n",
    "\n",
    "    ## Make sure there was at least one mapping\n",
    "    if( nrow(ID) < 1 ) top( \"No IDs mapped successfully\" )\n",
    "\n",
    "    ## Drop empty duds\n",
    "    j <- which( ID[,2] == \"\" )\n",
    "    if( length(j) > 0 ) ID <- ID[-j,]\n",
    "    stopifnot( all( ID[,1] %in% v ) )\n",
    "\n",
    "    ID\n",
    "}\n"
   ]
  },
  {
   "cell_type": "code",
   "execution_count": 4,
   "metadata": {},
   "outputs": [],
   "source": [
    "## Load the signature\n",
    "fnSig = \"../data/PCBC/pcbc-stemsig.tsv\"\n",
    "w <- read.delim( fnSig, header=FALSE, row.names=1 ) %>% as.matrix() %>% drop()"
   ]
  },
  {
   "cell_type": "code",
   "execution_count": 13,
   "metadata": {},
   "outputs": [],
   "source": [
    "X <- read.delim(\"../data/TcgaTargetGtex_RSEM_Hugo_norm_count.txt\", header=TRUE, row.names=1)"
   ]
  },
  {
   "cell_type": "code",
   "execution_count": 11,
   "metadata": {},
   "outputs": [
    {
     "name": "stderr",
     "output_type": "stream",
     "text": [
      "                                                                      \r"
     ]
    },
    {
     "ename": "ERROR",
     "evalue": "Error in top(\"No IDs mapped successfully\"): could not find function \"top\"\n",
     "output_type": "error",
     "traceback": [
      "Error in top(\"No IDs mapped successfully\"): could not find function \"top\"\nTraceback:\n",
      "1. genes2hugo(rownames(X))"
     ]
    }
   ],
   "source": [
    "V <- genes2hugo( rownames(X) )\n",
    "head(V)"
   ]
  },
  {
   "cell_type": "code",
   "execution_count": null,
   "metadata": {},
   "outputs": [],
   "source": [
    "X <- X[V[,1],]\n",
    "rownames(X) <- V[,2]\n",
    "X[1:3,1:3]"
   ]
  },
  {
   "cell_type": "code",
   "execution_count": 3,
   "metadata": {},
   "outputs": [],
   "source": [
    "## Uses the signature stored in fnSig to score PanCan33 data and stores the result to fnOut\n",
    "main.predict <- function( fnSig = \"../data/PCBC/pcbc-stemsig.tsv\", fnOut = \"mRNA_StemScore.tsv\" )\n",
    "{\n",
    "  ## Load the signature\n",
    "  w <- read.delim( fnSig, header=FALSE, row.names=1 ) %>% as.matrix() %>% drop()\n",
    "\n",
    "  ## Reduces HUGO|POSITION gene IDs to just HUGO\n",
    "  #f <- function( v ) unlist( lapply( strsplit( v, \"\\\\|\" ), \"[[\", 1 ) )\n",
    "\n",
    "  s <- synGet( \"syn4976369\", downloadLocation = \"/data/pancan\" )\n",
    "  X <- read.delim( s@filePath, as.is=TRUE, check.names=FALSE ) %>%  ## Read the raw values\n",
    "    filter( !grepl( \"\\\\?\", gene_id ) ) %>%      ## Drop genes with no mapping to HUGO\n",
    "    mutate( gene_id = f( gene_id ) ) %>%        ## Clip gene ids to HUGO\n",
    "    filter( gene_id %in% names(w) )         ## Reduce to the signature's gene set\n",
    "\n",
    "  ## SLC35E2 has multiple entries with the same HUGO id\n",
    "  ## Keep the first entry only\n",
    "  j <- grep( \"SLC35E2\", X[,1] )\n",
    "  if( length(j) > 1 )\n",
    "    X <- X[-j[-1],]\n",
    "\n",
    "  ## Convert to a matrix\n",
    "  rownames(X) <- NULL\n",
    "  X <- X %>% tibble::column_to_rownames( \"gene_id\" ) %>% as.matrix()\n",
    "\n",
    "  ## Reduce the signature to the common set of genes\n",
    "  stopifnot( all( rownames(X) %in% names(w) ) )\n",
    "  w <- w[ rownames(X) ]\n",
    "\n",
    "  ####### Score via Spearman correlation\n",
    "  s <- apply( X, 2, function(z) {cor( z, w, method = \"sp\", use = \"complete.obs\" )} )\n",
    "\n",
    "  ## Scale the scores to be between 0 and 1\n",
    "  s <- s - min(s)\n",
    "  s <- s / max(s)\n",
    "\n",
    "  write.table(cbind(s), file = fnOut, sep = \"\\t\", quote = FALSE, col.names = FALSE)\n",
    "}\n"
   ]
  },
  {
   "cell_type": "code",
   "execution_count": null,
   "metadata": {
    "scrolled": true
   },
   "outputs": [],
   "source": [
    "tissue_info[(tissue_info['SMTS'] == 'Prostate') & (tissue_info['SMSTYP'] == 'Normal')]"
   ]
  },
  {
   "cell_type": "code",
   "execution_count": null,
   "metadata": {},
   "outputs": [],
   "source": []
  }
 ],
 "metadata": {
  "kernelspec": {
   "display_name": "R",
   "language": "R",
   "name": "ir"
  },
  "language_info": {
   "codemirror_mode": "r",
   "file_extension": ".r",
   "mimetype": "text/x-r-source",
   "name": "R",
   "pygments_lexer": "r",
   "version": "3.4.4"
  }
 },
 "nbformat": 4,
 "nbformat_minor": 2
}
