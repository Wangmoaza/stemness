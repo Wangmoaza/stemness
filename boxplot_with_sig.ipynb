{
 "cells": [
  {
   "cell_type": "code",
   "execution_count": 1,
   "metadata": {},
   "outputs": [
    {
     "name": "stderr",
     "output_type": "stream",
     "text": [
      "Loading required package: ggplot2\n",
      "Loading required package: magrittr\n"
     ]
    }
   ],
   "source": [
    "library(ggpubr)"
   ]
  },
  {
   "cell_type": "code",
   "execution_count": 7,
   "metadata": {},
   "outputs": [],
   "source": [
    "X = read.delim('../data/GTEx-TCGA.mRNA_StemScore.extended.tsv', header=T, row.names=1)"
   ]
  },
  {
   "cell_type": "code",
   "execution_count": 8,
   "metadata": {},
   "outputs": [
    {
     "data": {
      "text/html": [
       "<table>\n",
       "<thead><tr><th></th><th scope=col>mRNAsi</th><th scope=col>EREG.mRNAsi</th><th scope=col>cohort</th><th scope=col>tissue_status</th><th scope=col>body_site</th></tr></thead>\n",
       "<tbody>\n",
       "\t<tr><th scope=row>GTEX-1117F-0226-SM-5GZZ7</th><td>0.1345116     </td><td>0.5044975     </td><td>GTEX          </td><td>Normal        </td><td>Adipose_Tissue</td></tr>\n",
       "\t<tr><th scope=row>GTEX-111CU-1826-SM-5GZYN</th><td>0.2163907     </td><td>0.6279389     </td><td>GTEX          </td><td>Normal        </td><td>Adipose_Tissue</td></tr>\n",
       "\t<tr><th scope=row>GTEX-111FC-0226-SM-5N9B8</th><td>0.1196461     </td><td>0.6188232     </td><td>GTEX          </td><td>Normal        </td><td>Adipose_Tissue</td></tr>\n",
       "</tbody>\n",
       "</table>\n"
      ],
      "text/latex": [
       "\\begin{tabular}{r|lllll}\n",
       "  & mRNAsi & EREG.mRNAsi & cohort & tissue\\_status & body\\_site\\\\\n",
       "\\hline\n",
       "\tGTEX-1117F-0226-SM-5GZZ7 & 0.1345116        & 0.5044975        & GTEX             & Normal           & Adipose\\_Tissue\\\\\n",
       "\tGTEX-111CU-1826-SM-5GZYN & 0.2163907        & 0.6279389        & GTEX             & Normal           & Adipose\\_Tissue\\\\\n",
       "\tGTEX-111FC-0226-SM-5N9B8 & 0.1196461        & 0.6188232        & GTEX             & Normal           & Adipose\\_Tissue\\\\\n",
       "\\end{tabular}\n"
      ],
      "text/markdown": [
       "\n",
       "| <!--/--> | mRNAsi | EREG.mRNAsi | cohort | tissue_status | body_site | \n",
       "|---|---|---|\n",
       "| GTEX-1117F-0226-SM-5GZZ7 | 0.1345116      | 0.5044975      | GTEX           | Normal         | Adipose_Tissue | \n",
       "| GTEX-111CU-1826-SM-5GZYN | 0.2163907      | 0.6279389      | GTEX           | Normal         | Adipose_Tissue | \n",
       "| GTEX-111FC-0226-SM-5N9B8 | 0.1196461      | 0.6188232      | GTEX           | Normal         | Adipose_Tissue | \n",
       "\n",
       "\n"
      ],
      "text/plain": [
       "                         mRNAsi    EREG.mRNAsi cohort tissue_status\n",
       "GTEX-1117F-0226-SM-5GZZ7 0.1345116 0.5044975   GTEX   Normal       \n",
       "GTEX-111CU-1826-SM-5GZYN 0.2163907 0.6279389   GTEX   Normal       \n",
       "GTEX-111FC-0226-SM-5N9B8 0.1196461 0.6188232   GTEX   Normal       \n",
       "                         body_site     \n",
       "GTEX-1117F-0226-SM-5GZZ7 Adipose_Tissue\n",
       "GTEX-111CU-1826-SM-5GZYN Adipose_Tissue\n",
       "GTEX-111FC-0226-SM-5N9B8 Adipose_Tissue"
      ]
     },
     "metadata": {},
     "output_type": "display_data"
    }
   ],
   "source": [
    "X[1:3, 1:5]"
   ]
  },
  {
   "cell_type": "code",
   "execution_count": 10,
   "metadata": {},
   "outputs": [
    {
     "data": {
      "text/html": [
       "<strong>png:</strong> 2"
      ],
      "text/latex": [
       "\\textbf{png:} 2"
      ],
      "text/markdown": [
       "**png:** 2"
      ],
      "text/plain": [
       "png \n",
       "  2 "
      ]
     },
     "metadata": {},
     "output_type": "display_data"
    }
   ],
   "source": [
    "pdf('../data/Analysis/mRNAsi-bodysite/20181004/TCGA-GTEX.mRNAsi.Kruskal_and_Wilcoxon_boxplot.pdf')\n",
    "# Default method = \"kruskal.test\" for multiple groups\n",
    "for (i in c('Liver', 'Uterus', 'Thyroid', 'Lung', 'Colon', 'Breast', 'Esophagus', 'Kidney', 'Stomach', 'Prostate')){\n",
    "    X_sub <- X[X['body_site'] == i, ]\n",
    "    # Perorm pairwise comparisons\n",
    "    # compare_means(mRNAsi ~ tissue_status,  data = X_sub)\n",
    "    # Visualize: Specify the comparisons you want\n",
    "    my_comparisons <- list( c(\"Normal\", \"PNT\"), c(\"PNT\", \"Tumor\"), c(\"Normal\", \"Tumor\") )\n",
    "    print(ggboxplot(X_sub, x = \"tissue_status\", y = \"mRNAsi\", title = i, xlab = FALSE,\n",
    "              color = \"tissue_status\", palette = \"jco\")+ \n",
    "              stat_compare_means(label = \"p.signif\", comparisons = my_comparisons)+ # Add pairwise comparisons p-value\n",
    "              stat_compare_means(label.y = 1))  # Add global p-value\n",
    "\n",
    "}\n",
    "dev.off()"
   ]
  },
  {
   "cell_type": "code",
   "execution_count": null,
   "metadata": {},
   "outputs": [],
   "source": []
  }
 ],
 "metadata": {
  "kernelspec": {
   "display_name": "R",
   "language": "R",
   "name": "ir"
  },
  "language_info": {
   "codemirror_mode": "r",
   "file_extension": ".r",
   "mimetype": "text/x-r-source",
   "name": "R",
   "pygments_lexer": "r",
   "version": "3.4.4"
  }
 },
 "nbformat": 4,
 "nbformat_minor": 2
}
