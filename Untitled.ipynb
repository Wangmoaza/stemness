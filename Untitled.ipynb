{
 "cells": [
  {
   "cell_type": "code",
   "execution_count": 14,
   "metadata": {},
   "outputs": [],
   "source": [
    "import pandas as pd\n",
    "import numpy as np"
   ]
  },
  {
   "cell_type": "code",
   "execution_count": 42,
   "metadata": {},
   "outputs": [],
   "source": [
    "info = pd.read_csv('~/DATA1/haeun/stemness/data/TCGA-TARGET-GTEx/GTEx_phenotype.txt', \n",
    "                 sep='\\t', header=0, index_col=0)\n",
    "stem = pd.read_csv('~/DATA1/haeun/stemness/data/TCGA-TARGET-GTEx/mRNA_StemScore.extended.tsv', \n",
    "                   sep='\\t', header=0, index_col=0)"
   ]
  },
  {
   "cell_type": "code",
   "execution_count": 63,
   "metadata": {},
   "outputs": [],
   "source": [
    "subj = info.loc[np.intersect1d(stem.index, info.index),'_patient'].unique()"
   ]
  },
  {
   "cell_type": "code",
   "execution_count": 43,
   "metadata": {
    "scrolled": true
   },
   "outputs": [
    {
     "data": {
      "text/plain": [
       "(9681, 5)"
      ]
     },
     "execution_count": 43,
     "metadata": {},
     "output_type": "execute_result"
    }
   ],
   "source": [
    "info = info[info.index.str.startswith('GTEX')]\n",
    "info.shape"
   ]
  },
  {
   "cell_type": "code",
   "execution_count": 44,
   "metadata": {},
   "outputs": [
    {
     "data": {
      "text/plain": [
       "(7781, 6)"
      ]
     },
     "execution_count": 44,
     "metadata": {},
     "output_type": "execute_result"
    }
   ],
   "source": [
    "stem = stem[stem['cohort'] == 'GTEX']\n",
    "stem.shape"
   ]
  },
  {
   "cell_type": "code",
   "execution_count": 45,
   "metadata": {},
   "outputs": [
    {
     "data": {
      "text/plain": [
       "(7781,)"
      ]
     },
     "execution_count": 45,
     "metadata": {},
     "output_type": "execute_result"
    }
   ],
   "source": [
    "np.intersect1d(stem.index, info.index).shape"
   ]
  },
  {
   "cell_type": "code",
   "execution_count": 58,
   "metadata": {},
   "outputs": [],
   "source": [
    "gtex6 = pd.read_csv('~/DATA1/haeun/stemness/data/GTEx/GTEx_Data_V6_Annotations_SubjectPhenotypesDS.txt',\n",
    "                    sep='\\t', header=0, index_col=0)\n",
    "gtex7 = pd.read_csv('~/DATA1/haeun/stemness/data/GTEx/GTEx_v7_Annotations_SubjectPhenotypesDS.txt',\n",
    "                    sep='\\t', header=0, index_col=0)\n",
    "gtex4 = pd.read_csv('~/DATA1/haeun/stemness/data/GTEx/GTEx_Data_V4_Annotations_SubjectPhenotypes_DS.txt',\n",
    "                    sep='\\t', header=0, index_col=0)"
   ]
  },
  {
   "cell_type": "code",
   "execution_count": 59,
   "metadata": {},
   "outputs": [],
   "source": [
    "gtex4 = gtex4[gtex4.index.str.startswith('GTEX')]\n",
    "gtex6 = gtex6[gtex6.index.str.startswith('GTEX')]\n",
    "gtex7 = gtex7[gtex7.index.str.startswith('GTEX')]"
   ]
  },
  {
   "cell_type": "code",
   "execution_count": 70,
   "metadata": {},
   "outputs": [
    {
     "data": {
      "text/plain": [
       "548"
      ]
     },
     "execution_count": 70,
     "metadata": {},
     "output_type": "execute_result"
    }
   ],
   "source": [
    "len(stem_s)"
   ]
  },
  {
   "cell_type": "code",
   "execution_count": null,
   "metadata": {},
   "outputs": [],
   "source": []
  }
 ],
 "metadata": {
  "kernelspec": {
   "display_name": "Python 2",
   "language": "python",
   "name": "python2"
  },
  "language_info": {
   "codemirror_mode": {
    "name": "ipython",
    "version": 2
   },
   "file_extension": ".py",
   "mimetype": "text/x-python",
   "name": "python",
   "nbconvert_exporter": "python",
   "pygments_lexer": "ipython2",
   "version": "2.7.14"
  }
 },
 "nbformat": 4,
 "nbformat_minor": 2
}
